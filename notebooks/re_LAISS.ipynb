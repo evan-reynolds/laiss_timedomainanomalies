{
 "cells": [
  {
   "cell_type": "markdown",
   "metadata": {},
   "source": [
    "# re_LAISS"
   ]
  },
  {
   "cell_type": "code",
   "execution_count": 1,
   "metadata": {},
   "outputs": [],
   "source": [
    "import os\n",
    "import sys\n",
    "\n",
    "import warnings\n",
    "warnings.filterwarnings(\"ignore\")\n",
    "\n",
    "working_dir = os.path.abspath(\"\")\n",
    "os.chdir(working_dir)\n",
    "sys.path.append('../code/')\n",
    "\n",
    "import constants\n",
    "from mod_helper_functions import *\n",
    "from mod_laiss_functions import *"
   ]
  },
  {
   "cell_type": "markdown",
   "metadata": {},
   "source": [
    "## Build dataset bank"
   ]
  },
  {
   "cell_type": "code",
   "execution_count": null,
   "metadata": {},
   "outputs": [],
   "source": [
    "# Add A_V to large dataset bank\n",
    "\n",
    "# from sfdmap2 import sfdmap\n",
    "\n",
    "# df = pd.read_csv(\"../data/large_df_bank.csv\")\n",
    "# m = sfdmap.SFDMap('../data/sfddata-master')\n",
    "# RV = 3.1\n",
    "# ebv = m.ebv(df['ra'].values, df['dec'].values)\n",
    "# df['A_V'] = RV * ebv\n",
    "# df.to_csv(\"../data/large_df_bank_wAV.csv\", index=False)"
   ]
  },
  {
   "cell_type": "code",
   "execution_count": null,
   "metadata": {},
   "outputs": [],
   "source": [
    "# Join new lightcurve features to small dataset bank\n",
    "\n",
    "# df_large = pd.read_csv(\"../data/large_df_bank_wAV.csv\")\n",
    "# df_small = pd.read_csv(\"../data/small_df_bank_re_laiss.csv\")\n",
    "\n",
    "# key = 'ztf_object_id'\n",
    "# extra_features = [col for col in df_large.columns if col not in df_small.columns]\n",
    "\n",
    "# merged_df = df_small.merge(df_large[[key] + extra_features], on=key, how='left')\n",
    "\n",
    "# lc_feature_names = constants.lc_features_const.copy()\n",
    "# host_feature_names = constants.host_features_const.copy()\n",
    "\n",
    "# small_final_df = merged_df.replace([np.inf, -np.inf, -999], np.nan).dropna(subset=lc_feature_names + host_feature_names)\n",
    "\n",
    "# small_final_df.to_csv(\"../data/small_hydrated_df_bank_re_laiss.csv\", index=False)"
   ]
  },
  {
   "cell_type": "code",
   "execution_count": null,
   "metadata": {},
   "outputs": [],
   "source": [
    "# lc_feature_names = constants.lc_features_const.copy()\n",
    "# host_feature_names = constants.host_features_const.copy()\n",
    "# raw_host_feature_names = constants.raw_host_features_const.copy()\n",
    "\n",
    "# raw_dataset_bank = pd.read_csv('../data/large_df_bank_wAV.csv')\n",
    "# print(\"Shape of raw dataset bank:\", raw_dataset_bank.shape)\n",
    "\n",
    "# # Impute missing values\n",
    "# from sklearn.impute import KNNImputer\n",
    "# X = raw_dataset_bank[lc_feature_names+raw_host_feature_names]\n",
    "# feat_imputer = KNNImputer(weights='distance').fit(X)\n",
    "# imputed_filt_arr = feat_imputer.transform(X)\n",
    "\n",
    "# imputed_df = pd.DataFrame(imputed_filt_arr, columns=lc_feature_names + raw_host_feature_names)\n",
    "# imputed_df.index = raw_dataset_bank.index\n",
    "# raw_dataset_bank[lc_feature_names + raw_host_feature_names] = imputed_df\n",
    "\n",
    "# imputed__df_bank = raw_dataset_bank\n",
    "# print(\"Shape of imputed dataset bank:\", imputed__df_bank.shape)\n",
    "\n",
    "# # Build final dataset bank\n",
    "# dataset_bank = re_build_dataset_bank(raw_df_bank=imputed__df_bank, av_in_raw_df_bank=True, path_to_sfd_folder=\"../data/sfddata-master\", building_entire_df_bank=True)\n",
    "# final_dataset_bank = dataset_bank.replace([np.inf, -np.inf, -999], np.nan).dropna(subset=lc_feature_names + host_feature_names)\n",
    "\n",
    "# # Write dataset bank to .csv\n",
    "# print(\"Shape of final dataset bank:\", final_dataset_bank.shape)\n",
    "# final_dataset_bank.to_csv('../data/large_final_df_bank_new_lc_feats.csv', index=False)\n",
    "# print(\"Successfully saved dataset bank!\")"
   ]
  },
  {
   "cell_type": "markdown",
   "metadata": {},
   "source": [
    "## Run re_LAISS"
   ]
  },
  {
   "cell_type": "code",
   "execution_count": null,
   "metadata": {},
   "outputs": [],
   "source": [
    "lc_feature_names = constants.lc_features_const.copy()\n",
    "host_feature_names = constants.host_features_const.copy()\n",
    "\n",
    "# theorized_lc_path = 'data/theorized_lc/slsnI.csv'\n",
    "# theorized_lightcurve_df = pd.read_csv('../' + theorized_lc_path)\n",
    "\n",
    "neighbors_df, primer_dict = re_LAISS(\n",
    "    transient_ztf_id='ZTF21aaublej', # ZTF21aaublej is Ia, ZTF18acaqdaa is TDE, # ZTF18acbwenp is anomalous\n",
    "    # theorized_lightcurve_df=theorized_lightcurve_df,\n",
    "    host_ztf_id_to_swap_in=None,\n",
    "    path_to_dataset_bank='../data/large_final_df_bank_new_lc_feats.csv',\n",
    "    host_feature_names=[],\n",
    "    lc_feature_names=lc_feature_names,\n",
    "    use_pca=False,\n",
    "    num_pca_components=10,\n",
    "    neighbors=9,\n",
    "    num_mc_simulations=20,\n",
    "    suggest_neighbor_num=False,\n",
    "    max_neighbor_distance=None,\n",
    "    weight_lc_feats_factor=1,\n",
    "    run_AD=True,\n",
    "    run_NN=True,\n",
    "    save_figures=True,\n",
    "    # force_recreation_of_annoy_index=False,\n",
    "    # save_timeseries=True,\n",
    ")"
   ]
  },
  {
   "cell_type": "markdown",
   "metadata": {},
   "source": [
    "## re_LAISS corner plots for performance analysis"
   ]
  },
  {
   "cell_type": "code",
   "execution_count": null,
   "metadata": {},
   "outputs": [],
   "source": [
    "re_corner_plot(\n",
    "    neighbors_df=neighbors_df,\n",
    "    primer_dict=primer_dict,\n",
    "    path_to_dataset_bank=\"../data/large_final_df_bank_new_lc_feats.csv\",\n",
    "    remove_outliers_bool=True,\n",
    "    path_to_figure_directory=\"../figures\",\n",
    ")"
   ]
  }
 ],
 "metadata": {
  "kernelspec": {
   "display_name": "laiss_env",
   "language": "python",
   "name": "python3"
  },
  "language_info": {
   "codemirror_mode": {
    "name": "ipython",
    "version": 3
   },
   "file_extension": ".py",
   "mimetype": "text/x-python",
   "name": "python",
   "nbconvert_exporter": "python",
   "pygments_lexer": "ipython3",
   "version": "3.9.19"
  }
 },
 "nbformat": 4,
 "nbformat_minor": 2
}
